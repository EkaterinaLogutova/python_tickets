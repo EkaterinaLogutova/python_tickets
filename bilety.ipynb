{
 "cells": [
  {
   "cell_type": "markdown",
   "id": "64e86863",
   "metadata": {},
   "source": [
    "_1. Менеджер пакетов pip. Мотивация использования. Основные \\\n",
    "команды: install, list, show, freeze, uninstall. Работа с зависимостями Python-проекта._"
   ]
  },
  {
   "cell_type": "markdown",
   "id": "6b1bec35",
   "metadata": {},
   "source": [
    "##### Менеджер пакетов pip. Мотивация использования: \n",
    "pip — стандартный менеджер пакетов Python, позволяющий устанавливать, обновлять и удалять библиотеки, а также управлять зависимостями проекта. Он упрощает работу с внешними модулями, обеспечивает контроль версий и автоматически разрешает зависимости.\n",
    "##### Основные команды:\n",
    "- 1. ```pip install numpy``` - установка пакета. \n",
    "    2. ``` pip install -r requirements.txt ``` - Установка из requirements.txt \n",
    "    3. ``` pip install git+https://github.com/username/repository.git ``` - Установка из Git-репозитория \n",
    "    4. ``` pip install https://example.com/path/to/archive.zip ``` - Установка из архива по URL, если пакет доступен в виде .zip или .tar.gz \n",
    "    5. ``` pip install ./local_package_folder # путь к папке с setup.py```- Установка локального пакета\n",
    "    6. ``` pip install -e git+https://github.com/user/repo.git#egg=package_name ``` - Режим разработки (-e / --editable), полезно, если нужно изменять код пакета \"на лету\"\n",
    "- 1. ```pip list # Все пакеты```  - вывод списка установленных пакетов.\n",
    "    2. ```pip list --outdated # Только устаревшие```\n",
    "- ```pip show numpy``` - информация о конкретном пакете (версия, зависимости, расположение).\n",
    "- ``` pip freeze > requirements.txt ``` - фиксация зависимостей в формате для requirements.txt\n",
    "- ``` pip uninstall numpy``` - Удаление пакета\n",
    "##### Работа с зависимостями Python-проекта:\n",
    "- Создание виртуального окружения: \\\n",
    "\\\n",
    "``` python -m venv venv          # Создание ``` \\\n",
    "```source venv/bin/activate     # Активация (Linux/macOS)``` \\\n",
    "```venv\\Scripts\\activate        # Активация (Windows) ```\n",
    "\n",
    "- Файл requirements.txt \\\n",
    "\\\n",
    "Формат файла: \\\n",
    "``` пакет==версия``` \\\n",
    "```другой_пакет>=минимальная_версия``` \\\n",
    "Пример: \\\n",
    "``` Flask==2.3.2``` \\\n",
    "```pandas>=1.5.0 ``` \\\n",
    "Установка: \\\n",
    "``` pip install -r requirements.txt ``` \n",
    "- Разрешение конфликтов \\\n",
    "\\\n",
    "Если пакеты требуют разные версии зависимостей, pip пытается найти совместимую комбинацию. \\\n",
    "В сложных случаях помогает ```pip check```\n"
   ]
  },
  {
   "cell_type": "markdown",
   "id": "271dadd6",
   "metadata": {},
   "source": [
    "_2. Виртуальное окружение. Мотивация использования. Основы \\\n",
    "работы с виртуальным окружением с помощью venv._"
   ]
  },
  {
   "cell_type": "markdown",
   "id": "ef4e7803",
   "metadata": {},
   "source": [
    "##### Виртуальное окружение. Мотивация использования:\n",
    "- Изоляция зависимостей \\\n",
    "\\\n",
    "Разные проекты могут требовать разные версии одних и тех же пакетов. Виртуальное окружение позволяет избежать конфликтов.\n",
    "\n",
    "- Воспроизводимость \\\n",
    "\\\n",
    "Фиксирует версии пакетов, чтобы проект работал одинаково на разных машинах.\n",
    "\n",
    "- Чистота системы \\\n",
    "\\\n",
    "Пакеты устанавливаются только в окружение проекта, а не глобально в систему.\n",
    "\n",
    "##### Основы работы с виртуальным окружением с помощью venv:\n",
    "```python -m venv venv_name  # Создаёт папку с окружением``` \\\n",
    "\\\n",
    "Активация: \\\n",
    "\\\n",
    "```venv_name\\Scripts\\activate``` - __Windows__ \\\n",
    "```source venv_name/bin/activate``` - __Linux/macOS__ \\\n",
    "\\\n",
    "Деактивация: \\\n",
    "\\\n",
    "``` deactivate ``` \\\n",
    "\\\n",
    "Управление зависимостями:\n",
    "\n",
    "- Установка пакетов (только в текущее окружение): \\\n",
    "``` pip install requests ```\n",
    "- Фиксация версий: \\\n",
    "```pip freeze > requirements.txt```  \n",
    "- Восстановление окружения на другой машине: \\\n",
    "```pip install -r requirements.txt ``` \n",
    "\n",
    "Пример: \\\n",
    "\\\n",
    "``` python -m venv venv  # Создание окружения ``` \\\n",
    "```source venv/bin/activate  # Активация (для Linux/macOS)``` \\\n",
    "```pip install -r requirements.txt  # Установка зависимостей ``` \n",
    "\n",
    "Важные нюансы:\n",
    "- Не добавляйте ```venv``` в Git (добавьте в ```.gitignore```). \n",
    "- Всегда активируйте окружение перед работой с проектом.\n",
    "- Используйте ```requirements.txt``` для переноса проекта. \\\n",
    "Команда для проверки активации: \\\n",
    "``` which python  # Должен показывать путь внутри venv ```\n"
   ]
  },
  {
   "cell_type": "markdown",
   "id": "1a81e01f",
   "metadata": {},
   "source": [
    "_3. NumPy. Мотивация использования. Пример задачи, для решения \n",
    "которой целесообразно использовать NumPy._"
   ]
  },
  {
   "cell_type": "markdown",
   "id": "90a256d0",
   "metadata": {},
   "source": [
    "##### NumPy. Мотивация использования:\n",
    "NumPy — фундаментальная библиотека для научных вычислений в Python. \\\n",
    "\\\n",
    "__Ключевые преимущества:__ \n",
    "- _Эффективность_: Оптимизированные массивы (ndarray) работают быстрее обычных списков Python. Высокая скорость за счет низкоуровневых оптимизаций. (Интеграция с C и Fortran)\n",
    "- _Удобство_: Богатый набор функций для операций с матрицами, линейной алгебры, статистики и др.\n",
    "- _Интеграция_: Совместимость с другими научными библиотеками (SciPy, Pandas, Matplotlib).\n",
    "##### Пример задачи, для решения которой целесообразно использовать NumPy:\n",
    "__Задача__: Вычисление скалярного произведения векторов."
   ]
  },
  {
   "cell_type": "markdown",
   "id": "af2574a1",
   "metadata": {},
   "source": [
    "Решение без NumPy:"
   ]
  },
  {
   "cell_type": "code",
   "execution_count": 1,
   "id": "74ef7c63",
   "metadata": {},
   "outputs": [
    {
     "name": "stdout",
     "output_type": "stream",
     "text": [
      "32\n"
     ]
    }
   ],
   "source": [
    "def dot_product(a, b):\n",
    "    return sum(x * y for x, y in zip(a, b))\n",
    "\n",
    "a = [1, 2, 3]\n",
    "b = [4, 5, 6]\n",
    "print(dot_product(a, b))  # 1*4 + 2*5 + 3*6 = 32"
   ]
  },
  {
   "cell_type": "markdown",
   "id": "42df66ce",
   "metadata": {},
   "source": [
    "Решение с NumPy:"
   ]
  },
  {
   "cell_type": "code",
   "execution_count": 3,
   "id": "f6358d09",
   "metadata": {},
   "outputs": [],
   "source": [
    "import numpy as np"
   ]
  },
  {
   "cell_type": "code",
   "execution_count": 4,
   "id": "a27376f1",
   "metadata": {},
   "outputs": [
    {
     "name": "stdout",
     "output_type": "stream",
     "text": [
      "32\n"
     ]
    }
   ],
   "source": [
    "a = np.array([1, 2, 3])\n",
    "b = np.array([4, 5, 6])\n",
    "print(np.dot(a, b))  # 32"
   ]
  },
  {
   "cell_type": "markdown",
   "id": "849c6164",
   "metadata": {},
   "source": [
    "__Почему NumPy лучше?__\n",
    "- Код короче и читаемее.\n",
    "- Операция выполняется в 10–100 раз быстрее для больших массивов.\n",
    "- Поддержка многомерных массивов и сложных операций (например, умножение матриц).\n",
    "\n",
    "__Когда использовать NumPy?__\n",
    "- Работа с большими массивами данных.\n",
    "- Математические операции (линейная алгебра, статистика).\n",
    "- Машинное обучение"
   ]
  },
  {
   "cell_type": "markdown",
   "id": "7d825d34",
   "metadata": {},
   "source": [
    "_4. Массивы NumPy. Отличие массивов NumPy от списков Python: \n",
    "строгая типизация элементов, хранение элементов в памяти._"
   ]
  },
  {
   "cell_type": "markdown",
   "id": "4b6aa052",
   "metadata": {},
   "source": [
    "1. __Типизация элементов__\n",
    "\n",
    "- Списки Python: \\\n",
    "\\\n",
    "Могут содержать элементы разных типов (гетерогенные). Например, в одном списке можно хранить целые числа, строки и объекты одновременно:"
   ]
  },
  {
   "cell_type": "code",
   "execution_count": 5,
   "id": "fa82b77d",
   "metadata": {},
   "outputs": [],
   "source": [
    "py_list = [1, \"текст\", 3.14, True]  # Корректно"
   ]
  },
  {
   "cell_type": "markdown",
   "id": "6802d246",
   "metadata": {},
   "source": [
    "- Массивы NumPy: \\\n",
    "\\\n",
    "Все элементы массива должны быть одного типа (гомогенные). При создании массива разные типы приводятся к общему:"
   ]
  },
  {
   "cell_type": "code",
   "execution_count": 8,
   "id": "3ebaeb14",
   "metadata": {},
   "outputs": [
    {
     "name": "stdout",
     "output_type": "stream",
     "text": [
      "float64\n"
     ]
    }
   ],
   "source": [
    "np_array = np.array([1, 2.5, 3])  # Все элементы станут float64\n",
    "print(np_array.dtype)  # → float64"
   ]
  },
  {
   "cell_type": "markdown",
   "id": "e159c284",
   "metadata": {},
   "source": [
    "Преобразование в случае смешении типов происходит по следующим правилам: \\\n",
    "\\\n",
    "Если ```str + любой другой тип```, то все элементы сводятся к ```str``` \\\n",
    "Если ```float + int/bool -> float``` \\\n",
    "Если ```int + bool -> int``` \\\n",
    "\\\n",
    "В случае явного указания типа через ```dtype``` NumPy либо преобразует их с потерей информации, либо выдаст ошибку:"
   ]
  },
  {
   "cell_type": "code",
   "execution_count": null,
   "id": "8a6bee82",
   "metadata": {},
   "outputs": [],
   "source": [
    "# Попытка сохранить строку как число → ValueError\n",
    "arr = np.array([\"текст\", 1, 2.5], dtype=np.float64)\n",
    "print(arr)"
   ]
  },
  {
   "cell_type": "markdown",
   "id": "fd3aa578",
   "metadata": {},
   "source": [
    "2. __Организация хранения в памяти__\n",
    "\n",
    "- Списки Python: \\\n",
    "\\\n",
    "Хранят ссылки на объекты в разных участках памяти. Каждый элемент требует дополнительной памяти для хранения информации о типе и других служебных данных.\n",
    "\n",
    "- Массивы NumPy: \\\n",
    "\\\n",
    "Данные хранятся в непрерывном блоке памяти как единый двоичный поток. Это позволяет эффективно использовать кеш процессора и оптимизирует вычисления.\n",
    "\n",
    "3. __Производительность операций__\n",
    "\n",
    "- Списки Python: \\\n",
    "\\\n",
    "Операции выполняются медленнее, так как для каждого элемента нужно проверять тип и выполнять дополнительные действия.\n",
    "\n",
    "- Массивы NumPy: \\\n",
    "\\\n",
    "Операции векторизованы и выполняются на низком уровне (на C), что дает значительный прирост скорости.\n",
    "\n",
    "4. __Размер и изменяемость__\n",
    "\n",
    "- Списки Python: \\\n",
    "\\\n",
    "Размер может динамически изменяться, добавление и удаление элементов выполняется эффективно.\n",
    "\n",
    "- Массивы NumPy: \\\n",
    "\\\n",
    "Размер фиксируется при создании. Для изменения размера нужно создавать новый массив, что может быть затратно по памяти.\n",
    "\n"
   ]
  },
  {
   "cell_type": "markdown",
   "id": "a12c656a",
   "metadata": {},
   "source": [
    "_5.Основные способы создания массивов NumPy: функции для создания массивов NumPy из объектов Python, функции для \\\n",
    "создания массивов NumPy с нуля._"
   ]
  },
  {
   "cell_type": "markdown",
   "id": "193cd830",
   "metadata": {},
   "source": [
    "##### Функции для создания массивов NumPy из объектов Python\n",
    "\n",
    "1. Из списка (list)"
   ]
  },
  {
   "cell_type": "code",
   "execution_count": null,
   "id": "9adc73dc",
   "metadata": {},
   "outputs": [],
   "source": [
    "arr = np.array([1, 2, 3])  # 1D массив\n",
    "matrix = np.array([[1, 2], [3, 4]])  # 2D массив"
   ]
  },
  {
   "cell_type": "markdown",
   "id": "02c60260",
   "metadata": {},
   "source": [
    "2. Из кортежа (tuple)"
   ]
  },
  {
   "cell_type": "code",
   "execution_count": null,
   "id": "905aacdd",
   "metadata": {},
   "outputs": [],
   "source": [
    "arr = np.array((1, 2, 3))  # Аналогично списку"
   ]
  },
  {
   "cell_type": "markdown",
   "id": "104dfe53",
   "metadata": {},
   "source": [
    "3. Из других итерируемых объектов"
   ]
  },
  {
   "cell_type": "code",
   "execution_count": null,
   "id": "c73caa3d",
   "metadata": {},
   "outputs": [],
   "source": [
    "arr = np.array(range(5))  # [0, 1, 2, 3, 4]"
   ]
  },
  {
   "cell_type": "markdown",
   "id": "a2fca673",
   "metadata": {},
   "source": [
    "##### Функции для создания массивов NumPy с нуля.\n",
    "\n",
    "1. Массивы с заполнением \n",
    "- ```zeros()``` - массив из нулей:"
   ]
  },
  {
   "cell_type": "code",
   "execution_count": null,
   "id": "8e8d15a9",
   "metadata": {},
   "outputs": [],
   "source": [
    "np.zeros(5)  # [0., 0., 0., 0., 0.]\n",
    "np.zeros((2, 3))  # 2x3 матрица нулей"
   ]
  },
  {
   "cell_type": "markdown",
   "id": "0b65d16c",
   "metadata": {},
   "source": [
    "- ```ones()``` - массив из единиц:"
   ]
  },
  {
   "cell_type": "code",
   "execution_count": null,
   "id": "e0161f01",
   "metadata": {},
   "outputs": [],
   "source": [
    "np.ones(4)  # [1., 1., 1., 1.]"
   ]
  },
  {
   "cell_type": "markdown",
   "id": "2975c869",
   "metadata": {},
   "source": [
    "- ```full()``` - массив с заданным значением:"
   ]
  },
  {
   "cell_type": "code",
   "execution_count": null,
   "id": "d2f3d109",
   "metadata": {},
   "outputs": [],
   "source": [
    "np.full((2, 2), 7)  # [[7, 7], [7, 7]]"
   ]
  },
  {
   "cell_type": "markdown",
   "id": "4afc8cba",
   "metadata": {},
   "source": [
    "2. Последовательности\n",
    "- ```arange()``` - аналог ```range()```:"
   ]
  },
  {
   "cell_type": "code",
   "execution_count": null,
   "id": "2a55fa60",
   "metadata": {},
   "outputs": [],
   "source": [
    "np.arange(5)  # [0, 1, 2, 3, 4]\n",
    "np.arange(1, 10, 2)  # [1, 3, 5, 7, 9]"
   ]
  },
  {
   "cell_type": "markdown",
   "id": "eb002514",
   "metadata": {},
   "source": [
    "- ```linspace()``` - линейно распределенные значения:"
   ]
  },
  {
   "cell_type": "code",
   "execution_count": null,
   "id": "f363a769",
   "metadata": {},
   "outputs": [],
   "source": [
    "np.linspace(0, 1, 5)  # [0., 0.25, 0.5, 0.75, 1.]"
   ]
  },
  {
   "cell_type": "markdown",
   "id": "d6d1ecf4",
   "metadata": {},
   "source": [
    "3. Специальные массивы\n",
    "- ```eye()``` - единичная матрица:"
   ]
  },
  {
   "cell_type": "code",
   "execution_count": null,
   "id": "e6ed5304",
   "metadata": {},
   "outputs": [],
   "source": [
    "np.eye(3)  # 3x3 единичная матрица"
   ]
  },
  {
   "cell_type": "markdown",
   "id": "6e4bd349",
   "metadata": {},
   "source": [
    "- ```diag()``` - диагональная матрица:"
   ]
  },
  {
   "cell_type": "code",
   "execution_count": null,
   "id": "b24305b9",
   "metadata": {},
   "outputs": [],
   "source": [
    "np.diag([1, 2, 3])  # [[1,0,0], [0,2,0], [0,0,3]]"
   ]
  },
  {
   "cell_type": "markdown",
   "id": "b06a66e1",
   "metadata": {},
   "source": [
    "4. Случайные массивы"
   ]
  },
  {
   "cell_type": "code",
   "execution_count": null,
   "id": "8bbaf2de",
   "metadata": {},
   "outputs": [],
   "source": [
    "np.random.rand(3)  # 3 случайных числа [0,1)\n",
    "np.random.randn(2, 2)  # 2x2 нормальное распределение\n",
    "np.random.randint(0, 10, size=5)  # 5 целых чисел [0,10)"
   ]
  },
  {
   "cell_type": "markdown",
   "id": "5ebe0c14",
   "metadata": {},
   "source": [
    "5. Особые случаи\n",
    "- пустые массивы"
   ]
  },
  {
   "cell_type": "code",
   "execution_count": null,
   "id": "76619b37",
   "metadata": {},
   "outputs": [],
   "source": [
    "np.empty(3)  # Массив без инициализации (значения - \"мусор\")"
   ]
  },
  {
   "cell_type": "markdown",
   "id": "db92b827",
   "metadata": {},
   "source": [
    "_6.Основные атрибуты массивов NumPy. Различные виды \n",
    "индексации массивов NumPy._"
   ]
  },
  {
   "cell_type": "markdown",
   "id": "fabe3eb0",
   "metadata": {},
   "source": [
    "##### Основные атрибуты массивов NumPy\n",
    "1. ```ndim``` — количество измерений (осей) массива."
   ]
  },
  {
   "cell_type": "code",
   "execution_count": 13,
   "id": "c0f4f4cc",
   "metadata": {},
   "outputs": [
    {
     "name": "stdout",
     "output_type": "stream",
     "text": [
      "2\n"
     ]
    }
   ],
   "source": [
    "a = np.array([[1, 2, 3], [4, 5, 6]])\n",
    "print(a.ndim)  # Вывод: 2"
   ]
  },
  {
   "cell_type": "markdown",
   "id": "5cb91987",
   "metadata": {},
   "source": [
    "2. ```shape``` — размеры массива, представленные в виде кортежа. Например, для матрицы из n строк и m столбцов ```shape``` будет ```(n, m)```."
   ]
  },
  {
   "cell_type": "code",
   "execution_count": 14,
   "id": "509e226b",
   "metadata": {},
   "outputs": [
    {
     "name": "stdout",
     "output_type": "stream",
     "text": [
      "(2, 3)\n"
     ]
    }
   ],
   "source": [
    "print(a.shape)  # Вывод: (2, 3)"
   ]
  },
  {
   "cell_type": "markdown",
   "id": "47b7dcbd",
   "metadata": {},
   "source": [
    "3. ```size``` — общее количество элементов в массиве, равное произведению всех элементов кортежа ```shape```."
   ]
  },
  {
   "cell_type": "code",
   "execution_count": 15,
   "id": "25ce464d",
   "metadata": {},
   "outputs": [
    {
     "name": "stdout",
     "output_type": "stream",
     "text": [
      "6\n"
     ]
    }
   ],
   "source": [
    "print(a.size)  # Вывод: 6"
   ]
  },
  {
   "cell_type": "markdown",
   "id": "7230e6f6",
   "metadata": {},
   "source": [
    "4. ```dtype``` — тип данных элементов массива."
   ]
  },
  {
   "cell_type": "code",
   "execution_count": 16,
   "id": "ca4731c8",
   "metadata": {},
   "outputs": [
    {
     "name": "stdout",
     "output_type": "stream",
     "text": [
      "int64\n"
     ]
    }
   ],
   "source": [
    "print(a.dtype)  # Вывод: int64"
   ]
  },
  {
   "cell_type": "markdown",
   "id": "ac6e837c",
   "metadata": {},
   "source": [
    "5. ```itemsize``` — размер каждого элемента массива в байтах."
   ]
  },
  {
   "cell_type": "code",
   "execution_count": null,
   "id": "4d13228e",
   "metadata": {},
   "outputs": [],
   "source": [
    "print(a.itemsize)  # Вывод: 8"
   ]
  },
  {
   "cell_type": "markdown",
   "id": "f14e5c3c",
   "metadata": {},
   "source": [
    "6. ```nbytes``` — общее количество байт, занимаемое массивом."
   ]
  },
  {
   "cell_type": "code",
   "execution_count": null,
   "id": "90e6a06b",
   "metadata": {},
   "outputs": [],
   "source": [
    "print(a.nbytes)  # Вывод: 48"
   ]
  },
  {
   "cell_type": "markdown",
   "id": "c5983976",
   "metadata": {},
   "source": [
    "7. ```T``` — транспонированный массив (строки становятся столбцами и наоборот)."
   ]
  },
  {
   "cell_type": "code",
   "execution_count": null,
   "id": "bfc796e7",
   "metadata": {},
   "outputs": [],
   "source": [
    "print(a.T)\n",
    "# Вывод:\n",
    "# [[1 4]\n",
    "#  [2 5]\n",
    "#  [3 6]]"
   ]
  },
  {
   "cell_type": "markdown",
   "id": "9b14f4e0",
   "metadata": {},
   "source": [
    "8. ```flat``` — итератор, позволяющий перебирать все элементы массива."
   ]
  },
  {
   "cell_type": "code",
   "execution_count": null,
   "id": "f893b745",
   "metadata": {},
   "outputs": [],
   "source": [
    "for element in a.flat:\n",
    "    print(element, end=\" \")  # Вывод: 1 2 3 4 5 6"
   ]
  },
  {
   "cell_type": "markdown",
   "id": "fdae243d",
   "metadata": {},
   "source": [
    "9. ```real``` и ```imag``` — возвращают действительную и мнимую части элементов массива, соответственно, если массив содержит комплексные числа."
   ]
  },
  {
   "cell_type": "code",
   "execution_count": null,
   "id": "0814fcbc",
   "metadata": {},
   "outputs": [],
   "source": [
    "complex_array = np.array([1 + 2j, 3 + 4j])\n",
    "print(complex_array.real)  # Вывод: [1. 3.]\n",
    "print(complex_array.imag)  # Вывод: [2. 4.]"
   ]
  },
  {
   "cell_type": "markdown",
   "id": "e3d37407",
   "metadata": {},
   "source": [
    "##### Различные виды индексации массивов NumPy\n",
    "\n",
    "1. Индексация с помощью целых чисел\n"
   ]
  },
  {
   "cell_type": "code",
   "execution_count": null,
   "id": "7cdd917e",
   "metadata": {},
   "outputs": [],
   "source": [
    "b = np.array([[1, 2], [3, 4], [5, 6]])\n",
    "print(b[1, 0])  # Вывод: 3"
   ]
  },
  {
   "cell_type": "markdown",
   "id": "4a054d10",
   "metadata": {},
   "source": [
    "2. Индексация с помощью срезов (slicing)"
   ]
  },
  {
   "cell_type": "code",
   "execution_count": null,
   "id": "5a724e52",
   "metadata": {},
   "outputs": [],
   "source": [
    "d = np.array([[1, 2, 3], [4, 5, 6], [7, 8, 9]])\n",
    "print(d[1:, :2])  # Вывод: [[4 5]\n",
    "                  #          [7 8]]"
   ]
  },
  {
   "cell_type": "markdown",
   "id": "b7f9da54",
   "metadata": {},
   "source": [
    "3. Индексация с использованием отрицательных индексов"
   ]
  },
  {
   "cell_type": "code",
   "execution_count": null,
   "id": "826e8254",
   "metadata": {},
   "outputs": [],
   "source": [
    "f = np.array([[1, 2], [3, 4], [5, 6]])\n",
    "print(f[-1, -1])  # Вывод: 6"
   ]
  },
  {
   "cell_type": "markdown",
   "id": "ae395612",
   "metadata": {},
   "source": [
    "4. Булевая индексация\n",
    "\n",
    "Используется для фильтрации элементов массива:\n"
   ]
  },
  {
   "cell_type": "code",
   "execution_count": null,
   "id": "184949dc",
   "metadata": {},
   "outputs": [],
   "source": [
    "g = np.array([10, 20, 30, 40, 50])\n",
    "mask = g > 30\n",
    "print(g[mask])  # Вывод: [40 50]"
   ]
  },
  {
   "cell_type": "markdown",
   "id": "f6f9db11",
   "metadata": {},
   "source": [
    "5. Индексация с использованием массивов индексов"
   ]
  },
  {
   "cell_type": "code",
   "execution_count": null,
   "id": "469d3aca",
   "metadata": {},
   "outputs": [],
   "source": [
    "h = np.array([10, 20, 30, 40, 50])\n",
    "indices = [0, 2, 4]\n",
    "print(h[indices])  # Вывод: [10 30 50]"
   ]
  },
  {
   "cell_type": "markdown",
   "id": "b2a3e649",
   "metadata": {},
   "source": [
    "6. Индексация с использованием структурированных массивов\n",
    "\n",
    "Если массив имеет именованные поля, можно обращаться к ним по имени:"
   ]
  },
  {
   "cell_type": "code",
   "execution_count": null,
   "id": "392f181f",
   "metadata": {},
   "outputs": [],
   "source": [
    "i = np.array([(1, 2), (3, 4), (5, 6)], dtype=[('a', np.int32), ('b', np.int32)])\n",
    "print(i['a'])  # Вывод: [1 3 5]"
   ]
  },
  {
   "cell_type": "markdown",
   "id": "95baa24b",
   "metadata": {},
   "source": [
    "7. Индексация с использованием итератора ```flat```"
   ]
  },
  {
   "cell_type": "code",
   "execution_count": null,
   "id": "f74025d5",
   "metadata": {},
   "outputs": [],
   "source": [
    "j = np.array([[1, 2], [3, 4], [5, 6]])\n",
    "for element in j.flat:\n",
    "    print(element, end=\" \")  # Вывод: 1 2 3 4 5 6"
   ]
  },
  {
   "cell_type": "markdown",
   "id": "f506fb7e",
   "metadata": {},
   "source": [
    "__Примечание:__\n",
    "- При использовании срезов создается представление исходного массива, а не его копия. Это означает, что изменения в срезе отразятся на исходном массиве. Чтобы создать независимую копию, используйте метод ```.copy()```."
   ]
  }
 ],
 "metadata": {
  "kernelspec": {
   "display_name": "Python 3",
   "language": "python",
   "name": "python3"
  },
  "language_info": {
   "codemirror_mode": {
    "name": "ipython",
    "version": 3
   },
   "file_extension": ".py",
   "mimetype": "text/x-python",
   "name": "python",
   "nbconvert_exporter": "python",
   "pygments_lexer": "ipython3",
   "version": "3.11.1"
  }
 },
 "nbformat": 4,
 "nbformat_minor": 5
}
