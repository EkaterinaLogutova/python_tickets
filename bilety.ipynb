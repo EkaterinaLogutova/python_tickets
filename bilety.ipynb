{
 "cells": [
  {
   "cell_type": "markdown",
   "id": "64e86863",
   "metadata": {},
   "source": [
    "_1. Менеджер пакетов pip. Мотивация использования. Основные \\\n",
    "команды: install, list, show, freeze, uninstall. Работа с зависимостями Python-проекта._"
   ]
  },
  {
   "cell_type": "markdown",
   "id": "6b1bec35",
   "metadata": {},
   "source": [
    "##### Менеджер пакетов pip. Мотивация использования: \n",
    "pip — стандартный менеджер пакетов Python, позволяющий устанавливать, обновлять и удалять библиотеки, а также управлять зависимостями проекта. Он упрощает работу с внешними модулями, обеспечивает контроль версий и автоматически разрешает зависимости.\n",
    "##### Основные команды:\n",
    "- 1. ```pip install numpy``` - установка пакета. \n",
    "    2. ``` pip install -r requirements.txt ``` - Установка из requirements.txt \n",
    "    3. ``` pip install git+https://github.com/username/repository.git ``` - Установка из Git-репозитория \n",
    "    4. ``` pip install https://example.com/path/to/archive.zip ``` - Установка из архива по URL, если пакет доступен в виде .zip или .tar.gz \n",
    "    5. ``` pip install ./local_package_folder # путь к папке с setup.py```- Установка локального пакета\n",
    "    6. ``` pip install -e git+https://github.com/user/repo.git#egg=package_name ``` - Режим разработки (-e / --editable), полезно, если нужно изменять код пакета \"на лету\"\n",
    "- 1. ```pip list # Все пакеты```  - вывод списка установленных пакетов.\n",
    "    2. ```pip list --outdated # Только устаревшие```\n",
    "- ```pip show numpy``` - информация о конкретном пакете (версия, зависимости, расположение).\n",
    "- ``` pip freeze > requirements.txt ``` - фиксация зависимостей в формате для requirements.txt\n",
    "- ``` pip uninstall numpy``` - Удаление пакета\n",
    "##### Работа с зависимостями Python-проекта:\n",
    "- Создание виртуального окружения: \\\n",
    "\\\n",
    "``` python -m venv venv          # Создание ``` \\\n",
    "```source venv/bin/activate     # Активация (Linux/macOS)``` \\\n",
    "```venv\\Scripts\\activate        # Активация (Windows) ```\n",
    "\n",
    "- Файл requirements.txt \\\n",
    "\\\n",
    "Формат файла: \\\n",
    "``` пакет==версия``` \\\n",
    "```другой_пакет>=минимальная_версия``` \\\n",
    "Пример: \\\n",
    "``` Flask==2.3.2``` \\\n",
    "```pandas>=1.5.0 ``` \\\n",
    "Установка: \\\n",
    "``` pip install -r requirements.txt ``` \n",
    "- Разрешение конфликтов \\\n",
    "\\\n",
    "Если пакеты требуют разные версии зависимостей, pip пытается найти совместимую комбинацию. \\\n",
    "В сложных случаях помогает ```pip check```\n"
   ]
  },
  {
   "cell_type": "markdown",
   "id": "271dadd6",
   "metadata": {},
   "source": [
    "_2. Виртуальное окружение. Мотивация использования. Основы \\\n",
    "работы с виртуальным окружением с помощью venv._"
   ]
  },
  {
   "cell_type": "markdown",
   "id": "ef4e7803",
   "metadata": {},
   "source": [
    "##### Виртуальное окружение. Мотивация использования:\n",
    "- Изоляция зависимостей \\\n",
    "\\\n",
    "Разные проекты могут требовать разные версии одних и тех же пакетов. Виртуальное окружение позволяет избежать конфликтов.\n",
    "\n",
    "- Воспроизводимость \\\n",
    "\\\n",
    "Фиксирует версии пакетов, чтобы проект работал одинаково на разных машинах.\n",
    "\n",
    "- Чистота системы \\\n",
    "\\\n",
    "Пакеты устанавливаются только в окружение проекта, а не глобально в систему.\n",
    "\n",
    "##### Основы работы с виртуальным окружением с помощью venv:\n",
    "```python -m venv venv_name  # Создаёт папку с окружением``` \\\n",
    "\\\n",
    "Активация: \\\n",
    "\\\n",
    "```venv_name\\Scripts\\activate``` - __Windows__ \\\n",
    "```source venv_name/bin/activate``` - __Linux/macOS__ \\\n",
    "\\\n",
    "Деактивация: \\\n",
    "\\\n",
    "``` deactivate ``` \\\n",
    "\\\n",
    "Управление зависимостями:\n",
    "\n",
    "- Установка пакетов (только в текущее окружение): \\\n",
    "``` pip install requests ```\n",
    "- Фиксация версий: \\\n",
    "```pip freeze > requirements.txt```  \n",
    "- Восстановление окружения на другой машине: \\\n",
    "```pip install -r requirements.txt ``` \n",
    "\n",
    "Пример: \\\n",
    "\\\n",
    "``` python -m venv venv  # Создание окружения ``` \\\n",
    "```source venv/bin/activate  # Активация (для Linux/macOS)``` \\\n",
    "```pip install -r requirements.txt  # Установка зависимостей ``` \n",
    "\n",
    "Важные нюансы:\n",
    "- Не добавляйте ```venv``` в Git (добавьте в ```.gitignore```). \n",
    "- Всегда активируйте окружение перед работой с проектом.\n",
    "- Используйте ```requirements.txt``` для переноса проекта. \\\n",
    "Команда для проверки активации: \\\n",
    "``` which python  # Должен показывать путь внутри venv ```\n"
   ]
  },
  {
   "cell_type": "markdown",
   "id": "1a81e01f",
   "metadata": {},
   "source": [
    "_3. NumPy. Мотивация использования. Пример задачи, для решения \n",
    "которой целесообразно использовать NumPy._"
   ]
  },
  {
   "cell_type": "markdown",
   "id": "90a256d0",
   "metadata": {},
   "source": [
    "##### NumPy. Мотивация использования:\n",
    "NumPy — фундаментальная библиотека для научных вычислений в Python. \\\n",
    "\\\n",
    "__Ключевые преимущества:__ \n",
    "- _Эффективность_: Оптимизированные массивы (ndarray) работают быстрее обычных списков Python. Высокая скорость за счет низкоуровневых оптимизаций. (Интеграция с C и Fortran)\n",
    "- _Удобство_: Богатый набор функций для операций с матрицами, линейной алгебры, статистики и др.\n",
    "- _Интеграция_: Совместимость с другими научными библиотеками (SciPy, Pandas, Matplotlib).\n",
    "##### Пример задачи, для решения которой целесообразно использовать NumPy:\n",
    "__Задача__: Вычисление скалярного произведения векторов."
   ]
  },
  {
   "cell_type": "markdown",
   "id": "af2574a1",
   "metadata": {},
   "source": [
    "Решение без NumPy:"
   ]
  },
  {
   "cell_type": "code",
   "execution_count": 1,
   "id": "74ef7c63",
   "metadata": {},
   "outputs": [
    {
     "name": "stdout",
     "output_type": "stream",
     "text": [
      "32\n"
     ]
    }
   ],
   "source": [
    "def dot_product(a, b):\n",
    "    return sum(x * y for x, y in zip(a, b))\n",
    "\n",
    "a = [1, 2, 3]\n",
    "b = [4, 5, 6]\n",
    "print(dot_product(a, b))  # 1*4 + 2*5 + 3*6 = 32"
   ]
  },
  {
   "cell_type": "markdown",
   "id": "42df66ce",
   "metadata": {},
   "source": [
    "Решение с NumPy:"
   ]
  },
  {
   "cell_type": "code",
   "execution_count": 3,
   "id": "f6358d09",
   "metadata": {},
   "outputs": [],
   "source": [
    "import numpy as np"
   ]
  },
  {
   "cell_type": "code",
   "execution_count": 4,
   "id": "a27376f1",
   "metadata": {},
   "outputs": [
    {
     "name": "stdout",
     "output_type": "stream",
     "text": [
      "32\n"
     ]
    }
   ],
   "source": [
    "a = np.array([1, 2, 3])\n",
    "b = np.array([4, 5, 6])\n",
    "print(np.dot(a, b))  # 32"
   ]
  },
  {
   "cell_type": "markdown",
   "id": "849c6164",
   "metadata": {},
   "source": [
    "__Почему NumPy лучше?__\n",
    "- Код короче и читаемее.\n",
    "- Операция выполняется в 10–100 раз быстрее для больших массивов.\n",
    "- Поддержка многомерных массивов и сложных операций (например, умножение матриц).\n",
    "\n",
    "__Когда использовать NumPy?__\n",
    "- Работа с большими массивами данных.\n",
    "- Математические операции (линейная алгебра, статистика).\n",
    "- Машинное обучение"
   ]
  },
  {
   "cell_type": "markdown",
   "id": "7d825d34",
   "metadata": {},
   "source": [
    "_4. Массивы NumPy. Отличие массивов NumPy от списков Python: \n",
    "строгая типизация элементов, хранение элементов в памяти._"
   ]
  }
 ],
 "metadata": {
  "kernelspec": {
   "display_name": "Python 3",
   "language": "python",
   "name": "python3"
  },
  "language_info": {
   "codemirror_mode": {
    "name": "ipython",
    "version": 3
   },
   "file_extension": ".py",
   "mimetype": "text/x-python",
   "name": "python",
   "nbconvert_exporter": "python",
   "pygments_lexer": "ipython3",
   "version": "3.11.1"
  }
 },
 "nbformat": 4,
 "nbformat_minor": 5
}
